{
 "cells": [
  {
   "cell_type": "markdown",
   "id": "a51ee45c",
   "metadata": {},
   "source": [
    "# 버전 확인"
   ]
  },
  {
   "cell_type": "code",
   "execution_count": 5,
   "id": "b638cd3a",
   "metadata": {},
   "outputs": [
    {
     "data": {
      "text/plain": [
       "'1.23.5'"
      ]
     },
     "execution_count": 5,
     "metadata": {},
     "output_type": "execute_result"
    }
   ],
   "source": [
    "import numpy\n",
    "\n",
    "numpy.__version__"
   ]
  },
  {
   "cell_type": "code",
   "execution_count": 6,
   "id": "21388b4b",
   "metadata": {},
   "outputs": [
    {
     "data": {
      "text/plain": [
       "'1.4.4'"
      ]
     },
     "execution_count": 6,
     "metadata": {},
     "output_type": "execute_result"
    }
   ],
   "source": [
    "import pandas\n",
    "\n",
    "pandas.__version__"
   ]
  },
  {
   "cell_type": "code",
   "execution_count": 7,
   "id": "04554474",
   "metadata": {},
   "outputs": [
    {
     "data": {
      "text/plain": [
       "'3.5.2'"
      ]
     },
     "execution_count": 7,
     "metadata": {},
     "output_type": "execute_result"
    }
   ],
   "source": [
    "import matplotlib\n",
    "\n",
    "matplotlib.__version__"
   ]
  },
  {
   "cell_type": "code",
   "execution_count": 8,
   "id": "93db7ecf",
   "metadata": {},
   "outputs": [
    {
     "data": {
      "text/plain": [
       "'0.16.0'"
      ]
     },
     "execution_count": 8,
     "metadata": {},
     "output_type": "execute_result"
    }
   ],
   "source": [
    "import folium\n",
    "\n",
    "folium.__version__"
   ]
  },
  {
   "cell_type": "code",
   "execution_count": 1,
   "id": "942239a7",
   "metadata": {},
   "outputs": [
    {
     "data": {
      "text/plain": [
       "'1.1.2'"
      ]
     },
     "execution_count": 1,
     "metadata": {},
     "output_type": "execute_result"
    }
   ],
   "source": [
    "import sklearn\n",
    "\n",
    "sklearn.__version__"
   ]
  },
  {
   "cell_type": "markdown",
   "id": "97099c1c",
   "metadata": {},
   "source": [
    "# 패키지 로딩"
   ]
  },
  {
   "cell_type": "code",
   "execution_count": 6,
   "id": "2f227b69",
   "metadata": {},
   "outputs": [],
   "source": [
    "import numpy as np\n",
    "import pandas as pd\n",
    "import glob\n",
    "\n",
    "import matplotlib.pyplot as plt\n",
    "import folium"
   ]
  },
  {
   "cell_type": "markdown",
   "id": "d1f652c3",
   "metadata": {},
   "source": [
    "# 데이터 로딩\n",
    "- 1월 27일 ~ 5월 17일"
   ]
  },
  {
   "cell_type": "markdown",
   "id": "4e103325",
   "metadata": {},
   "source": [
    "## 2023년 따릉이 사용량 "
   ]
  },
  {
   "cell_type": "code",
   "execution_count": 16,
   "id": "0f40c82a",
   "metadata": {},
   "outputs": [],
   "source": [
    "df_2023 = pd.DataFrame()\n",
    "\n",
    "for i in range(1, 6):\n",
    "\n",
    "    all_files = glob.glob(f\"./data/일일 따릉이 사용내역/23년/{i}월/*.csv\")\n",
    "\n",
    "    for file in all_files:\n",
    "        \n",
    "        try:\n",
    "            temp = pd.read_csv(file, encoding=\"utf-8-sig\")\n",
    "            \n",
    "        except:\n",
    "            temp = pd.read_csv(file, encoding=\"cp949\")\n",
    "\n",
    "        try:\n",
    "            temp = temp[[\"기준_날짜\", \"집계 기준\", \"기준_시간대\", \"정류소 ID\"]]\n",
    "            temp = temp[temp[\"집계 기준\"] == \"도착시간\"]\n",
    "            temp = temp.drop(\"집계 기준\", axis = 1)\n",
    "            \n",
    "        except:\n",
    "            temp = temp[[\"기준_날짜\", \"기준_시간대\", \"시작_대여소_ID\"]]\n",
    "            \n",
    "        finally:\n",
    "            temp[\"기준_날짜\"] = pd.to_datetime(temp[\"기준_날짜\"], format='%Y%m%d')\n",
    "\n",
    "            df_2023 = pd.concat([df_2023, temp], axis = 0)\n",
    "            \n",
    "df_2023.sort_values([\"기준_날짜\", \"기준_시간대\"]).reset_index(drop=True, inplace = True)\n",
    "\n",
    "df_2023"
   ]
  },
  {
   "cell_type": "markdown",
   "id": "ccb59b62",
   "metadata": {},
   "source": [
    "## 2024년 따릉이 사용량"
   ]
  },
  {
   "cell_type": "code",
   "execution_count": 27,
   "id": "63f5be52",
   "metadata": {},
   "outputs": [
    {
     "data": {
      "text/html": [
       "<div>\n",
       "<style scoped>\n",
       "    .dataframe tbody tr th:only-of-type {\n",
       "        vertical-align: middle;\n",
       "    }\n",
       "\n",
       "    .dataframe tbody tr th {\n",
       "        vertical-align: top;\n",
       "    }\n",
       "\n",
       "    .dataframe thead th {\n",
       "        text-align: right;\n",
       "    }\n",
       "</style>\n",
       "<table border=\"1\" class=\"dataframe\">\n",
       "  <thead>\n",
       "    <tr style=\"text-align: right;\">\n",
       "      <th></th>\n",
       "      <th>기준_날짜</th>\n",
       "      <th>기준_시간대</th>\n",
       "      <th>시작_대여소_ID</th>\n",
       "    </tr>\n",
       "  </thead>\n",
       "  <tbody>\n",
       "    <tr>\n",
       "      <th>0</th>\n",
       "      <td>2024-01-07</td>\n",
       "      <td>0</td>\n",
       "      <td>ST-1004</td>\n",
       "    </tr>\n",
       "    <tr>\n",
       "      <th>1</th>\n",
       "      <td>2024-01-07</td>\n",
       "      <td>0</td>\n",
       "      <td>ST-1014</td>\n",
       "    </tr>\n",
       "    <tr>\n",
       "      <th>2</th>\n",
       "      <td>2024-01-07</td>\n",
       "      <td>0</td>\n",
       "      <td>ST-1036</td>\n",
       "    </tr>\n",
       "    <tr>\n",
       "      <th>3</th>\n",
       "      <td>2024-01-07</td>\n",
       "      <td>0</td>\n",
       "      <td>ST-1047</td>\n",
       "    </tr>\n",
       "    <tr>\n",
       "      <th>4</th>\n",
       "      <td>2024-01-07</td>\n",
       "      <td>0</td>\n",
       "      <td>ST-1065</td>\n",
       "    </tr>\n",
       "    <tr>\n",
       "      <th>...</th>\n",
       "      <td>...</td>\n",
       "      <td>...</td>\n",
       "      <td>...</td>\n",
       "    </tr>\n",
       "    <tr>\n",
       "      <th>353354</th>\n",
       "      <td>2024-04-30</td>\n",
       "      <td>2355</td>\n",
       "      <td>ST-95</td>\n",
       "    </tr>\n",
       "    <tr>\n",
       "      <th>353355</th>\n",
       "      <td>2024-04-30</td>\n",
       "      <td>2355</td>\n",
       "      <td>ST-964</td>\n",
       "    </tr>\n",
       "    <tr>\n",
       "      <th>353356</th>\n",
       "      <td>2024-04-30</td>\n",
       "      <td>2355</td>\n",
       "      <td>ST-972</td>\n",
       "    </tr>\n",
       "    <tr>\n",
       "      <th>353357</th>\n",
       "      <td>2024-04-30</td>\n",
       "      <td>2355</td>\n",
       "      <td>ST-99</td>\n",
       "    </tr>\n",
       "    <tr>\n",
       "      <th>353358</th>\n",
       "      <td>2024-04-30</td>\n",
       "      <td>2355</td>\n",
       "      <td>ST-99</td>\n",
       "    </tr>\n",
       "  </tbody>\n",
       "</table>\n",
       "<p>21894962 rows × 3 columns</p>\n",
       "</div>"
      ],
      "text/plain": [
       "            기준_날짜 기준_시간대 시작_대여소_ID\n",
       "0      2024-01-07      0   ST-1004\n",
       "1      2024-01-07      0   ST-1014\n",
       "2      2024-01-07      0   ST-1036\n",
       "3      2024-01-07      0   ST-1047\n",
       "4      2024-01-07      0   ST-1065\n",
       "...           ...    ...       ...\n",
       "353354 2024-04-30   2355     ST-95\n",
       "353355 2024-04-30   2355    ST-964\n",
       "353356 2024-04-30   2355    ST-972\n",
       "353357 2024-04-30   2355     ST-99\n",
       "353358 2024-04-30   2355     ST-99\n",
       "\n",
       "[21894962 rows x 3 columns]"
      ]
     },
     "execution_count": 27,
     "metadata": {},
     "output_type": "execute_result"
    }
   ],
   "source": [
    "df_2024 = pd.DataFrame()\n",
    "\n",
    "for i in range(1, 6):\n",
    "\n",
    "    all_files = glob.glob(f\"./data/일일 따릉이 사용내역/24년/{i}월/*.csv\")\n",
    "\n",
    "    for file in all_files:\n",
    "        \n",
    "        try:\n",
    "            temp = pd.read_csv(file, encoding=\"utf-8-sig\")\n",
    "            \n",
    "        except:\n",
    "            temp = pd.read_csv(file, encoding=\"cp949\")\n",
    "\n",
    "        try:\n",
    "            temp = temp[[\"기준_날짜\", \"집계 기준\", \"기준_시간대\", \"정류소 ID\"]]\n",
    "            temp = temp[temp[\"집계 기준\"] == \"도착시간\"]\n",
    "            temp = temp.drop(\"집계 기준\", axis = 1)\n",
    "            \n",
    "        except:\n",
    "            temp = temp[[\"기준_날짜\", \"기준_시간대\", \"시작_대여소_ID\"]]\n",
    "            \n",
    "        finally:\n",
    "            temp[\"기준_날짜\"] = pd.to_datetime(temp[\"기준_날짜\"], format='%Y%m%d')\n",
    "\n",
    "            df_2024 = pd.concat([df_2024, temp], axis = 0)\n",
    "            \n",
    "df_2024.sort_values([\"기준_날짜\", \"기준_시간대\"]).reset_index(drop=True, inplace = True)\n",
    "\n",
    "df_2024"
   ]
  },
  {
   "cell_type": "markdown",
   "id": "bcbe927b",
   "metadata": {},
   "source": [
    "## 서울시 따릉이대여소 위치정보"
   ]
  },
  {
   "cell_type": "code",
   "execution_count": 3,
   "id": "d8a10e03",
   "metadata": {},
   "outputs": [
    {
     "data": {
      "text/html": [
       "<div>\n",
       "<style scoped>\n",
       "    .dataframe tbody tr th:only-of-type {\n",
       "        vertical-align: middle;\n",
       "    }\n",
       "\n",
       "    .dataframe tbody tr th {\n",
       "        vertical-align: top;\n",
       "    }\n",
       "\n",
       "    .dataframe thead th {\n",
       "        text-align: right;\n",
       "    }\n",
       "</style>\n",
       "<table border=\"1\" class=\"dataframe\">\n",
       "  <thead>\n",
       "    <tr style=\"text-align: right;\">\n",
       "      <th></th>\n",
       "      <th>대여소_ID</th>\n",
       "      <th>주소1</th>\n",
       "      <th>주소2</th>\n",
       "      <th>위도</th>\n",
       "      <th>경도</th>\n",
       "    </tr>\n",
       "  </thead>\n",
       "  <tbody>\n",
       "    <tr>\n",
       "      <th>0</th>\n",
       "      <td>ST-999</td>\n",
       "      <td>서울특별시 양천구 목동서로 280</td>\n",
       "      <td>목동아파트 8단지 상가동</td>\n",
       "      <td>0.000000</td>\n",
       "      <td>0.000000</td>\n",
       "    </tr>\n",
       "    <tr>\n",
       "      <th>1</th>\n",
       "      <td>ST-998</td>\n",
       "      <td>서울특별시 양천구 목동서로 130</td>\n",
       "      <td>목동아파트 4단지 상가동</td>\n",
       "      <td>0.000000</td>\n",
       "      <td>0.000000</td>\n",
       "    </tr>\n",
       "    <tr>\n",
       "      <th>2</th>\n",
       "      <td>ST-997</td>\n",
       "      <td>서울특별시 양천구 목동중앙로 49</td>\n",
       "      <td>목동3단지 시내버스정류장</td>\n",
       "      <td>37.534390</td>\n",
       "      <td>126.869598</td>\n",
       "    </tr>\n",
       "    <tr>\n",
       "      <th>3</th>\n",
       "      <td>ST-996</td>\n",
       "      <td>서울특별시 양천구 남부순환로88길5-16</td>\n",
       "      <td>양강중학교앞 교차로</td>\n",
       "      <td>37.524334</td>\n",
       "      <td>126.850548</td>\n",
       "    </tr>\n",
       "    <tr>\n",
       "      <th>4</th>\n",
       "      <td>ST-995</td>\n",
       "      <td>서울특별시 양천구 중앙로 153 공중화장실</td>\n",
       "      <td>NaN</td>\n",
       "      <td>37.510597</td>\n",
       "      <td>126.857323</td>\n",
       "    </tr>\n",
       "    <tr>\n",
       "      <th>...</th>\n",
       "      <td>...</td>\n",
       "      <td>...</td>\n",
       "      <td>...</td>\n",
       "      <td>...</td>\n",
       "      <td>...</td>\n",
       "    </tr>\n",
       "    <tr>\n",
       "      <th>3281</th>\n",
       "      <td>ST-1002</td>\n",
       "      <td>서울특별시 양천구 목동동로 316-6</td>\n",
       "      <td>서울시 도로환경관리센터</td>\n",
       "      <td>37.529900</td>\n",
       "      <td>126.876541</td>\n",
       "    </tr>\n",
       "    <tr>\n",
       "      <th>3282</th>\n",
       "      <td>ST-1001</td>\n",
       "      <td>서울특별시 양천구 남부순환로4길20</td>\n",
       "      <td>서서울호수공원</td>\n",
       "      <td>0.000000</td>\n",
       "      <td>0.000000</td>\n",
       "    </tr>\n",
       "    <tr>\n",
       "      <th>3283</th>\n",
       "      <td>ST-1000</td>\n",
       "      <td>서울특별시 양천구 신정동 236</td>\n",
       "      <td>서부식자재마트 건너편</td>\n",
       "      <td>37.510380</td>\n",
       "      <td>126.866798</td>\n",
       "    </tr>\n",
       "    <tr>\n",
       "      <th>3284</th>\n",
       "      <td>ST-100</td>\n",
       "      <td>서울특별시 광진구 아차산로 262</td>\n",
       "      <td>더샵스타시티 C동 앞</td>\n",
       "      <td>37.536667</td>\n",
       "      <td>127.073593</td>\n",
       "    </tr>\n",
       "    <tr>\n",
       "      <th>3285</th>\n",
       "      <td>ST-10</td>\n",
       "      <td>서울특별시 마포구 양화로 93</td>\n",
       "      <td>427</td>\n",
       "      <td>37.552746</td>\n",
       "      <td>126.918617</td>\n",
       "    </tr>\n",
       "  </tbody>\n",
       "</table>\n",
       "<p>3286 rows × 5 columns</p>\n",
       "</div>"
      ],
      "text/plain": [
       "       대여소_ID                      주소1            주소2         위도          경도\n",
       "0      ST-999       서울특별시 양천구 목동서로 280  목동아파트 8단지 상가동   0.000000    0.000000\n",
       "1      ST-998       서울특별시 양천구 목동서로 130  목동아파트 4단지 상가동   0.000000    0.000000\n",
       "2      ST-997       서울특별시 양천구 목동중앙로 49  목동3단지 시내버스정류장  37.534390  126.869598\n",
       "3      ST-996   서울특별시 양천구 남부순환로88길5-16     양강중학교앞 교차로  37.524334  126.850548\n",
       "4      ST-995  서울특별시 양천구 중앙로 153 공중화장실            NaN  37.510597  126.857323\n",
       "...       ...                      ...            ...        ...         ...\n",
       "3281  ST-1002     서울특별시 양천구 목동동로 316-6   서울시 도로환경관리센터  37.529900  126.876541\n",
       "3282  ST-1001      서울특별시 양천구 남부순환로4길20        서서울호수공원   0.000000    0.000000\n",
       "3283  ST-1000        서울특별시 양천구 신정동 236    서부식자재마트 건너편  37.510380  126.866798\n",
       "3284   ST-100       서울특별시 광진구 아차산로 262    더샵스타시티 C동 앞  37.536667  127.073593\n",
       "3285    ST-10         서울특별시 마포구 양화로 93            427  37.552746  126.918617\n",
       "\n",
       "[3286 rows x 5 columns]"
      ]
     },
     "execution_count": 3,
     "metadata": {},
     "output_type": "execute_result"
    }
   ],
   "source": [
    "pd.read_csv(\"./data/서울시 따릉이대여소 마스터 정보.csv\", encoding=\"cp949\")"
   ]
  },
  {
   "cell_type": "markdown",
   "id": "3508ff32",
   "metadata": {},
   "source": [
    "## 2023년 4월 주민등록인구"
   ]
  },
  {
   "cell_type": "code",
   "execution_count": null,
   "id": "fd2bd76f",
   "metadata": {},
   "outputs": [],
   "source": [
    "pd.read_csv(\"./data/인구 데이터/2023년_4월_주민등록인구.csv\", encoding=\"cp949\")"
   ]
  },
  {
   "cell_type": "markdown",
   "id": "edea5384",
   "metadata": {},
   "source": [
    "## 2024년 4월 주민등록인구"
   ]
  },
  {
   "cell_type": "code",
   "execution_count": 4,
   "id": "0ad8f16f",
   "metadata": {},
   "outputs": [
    {
     "data": {
      "text/html": [
       "<div>\n",
       "<style scoped>\n",
       "    .dataframe tbody tr th:only-of-type {\n",
       "        vertical-align: middle;\n",
       "    }\n",
       "\n",
       "    .dataframe tbody tr th {\n",
       "        vertical-align: top;\n",
       "    }\n",
       "\n",
       "    .dataframe thead th {\n",
       "        text-align: right;\n",
       "    }\n",
       "</style>\n",
       "<table border=\"1\" class=\"dataframe\">\n",
       "  <thead>\n",
       "    <tr style=\"text-align: right;\">\n",
       "      <th></th>\n",
       "      <th>행정구역(시군구)별</th>\n",
       "      <th>연령별</th>\n",
       "      <th>총인구수 (명)</th>\n",
       "      <th>남자인구수 (명)</th>\n",
       "      <th>여자인구수 (명)</th>\n",
       "    </tr>\n",
       "  </thead>\n",
       "  <tbody>\n",
       "    <tr>\n",
       "      <th>0</th>\n",
       "      <td>서울특별시</td>\n",
       "      <td>계</td>\n",
       "      <td>9378269</td>\n",
       "      <td>4532115</td>\n",
       "      <td>4846154</td>\n",
       "    </tr>\n",
       "    <tr>\n",
       "      <th>1</th>\n",
       "      <td>서울특별시</td>\n",
       "      <td>0세</td>\n",
       "      <td>37255</td>\n",
       "      <td>19191</td>\n",
       "      <td>18064</td>\n",
       "    </tr>\n",
       "    <tr>\n",
       "      <th>2</th>\n",
       "      <td>서울특별시</td>\n",
       "      <td>1세</td>\n",
       "      <td>39761</td>\n",
       "      <td>20217</td>\n",
       "      <td>19544</td>\n",
       "    </tr>\n",
       "    <tr>\n",
       "      <th>3</th>\n",
       "      <td>서울특별시</td>\n",
       "      <td>2세</td>\n",
       "      <td>42137</td>\n",
       "      <td>21770</td>\n",
       "      <td>20367</td>\n",
       "    </tr>\n",
       "    <tr>\n",
       "      <th>4</th>\n",
       "      <td>서울특별시</td>\n",
       "      <td>3세</td>\n",
       "      <td>43140</td>\n",
       "      <td>22008</td>\n",
       "      <td>21132</td>\n",
       "    </tr>\n",
       "    <tr>\n",
       "      <th>...</th>\n",
       "      <td>...</td>\n",
       "      <td>...</td>\n",
       "      <td>...</td>\n",
       "      <td>...</td>\n",
       "      <td>...</td>\n",
       "    </tr>\n",
       "    <tr>\n",
       "      <th>2647</th>\n",
       "      <td>강동구</td>\n",
       "      <td>96세</td>\n",
       "      <td>92</td>\n",
       "      <td>16</td>\n",
       "      <td>76</td>\n",
       "    </tr>\n",
       "    <tr>\n",
       "      <th>2648</th>\n",
       "      <td>강동구</td>\n",
       "      <td>97세</td>\n",
       "      <td>81</td>\n",
       "      <td>11</td>\n",
       "      <td>70</td>\n",
       "    </tr>\n",
       "    <tr>\n",
       "      <th>2649</th>\n",
       "      <td>강동구</td>\n",
       "      <td>98세</td>\n",
       "      <td>42</td>\n",
       "      <td>7</td>\n",
       "      <td>35</td>\n",
       "    </tr>\n",
       "    <tr>\n",
       "      <th>2650</th>\n",
       "      <td>강동구</td>\n",
       "      <td>99세</td>\n",
       "      <td>23</td>\n",
       "      <td>2</td>\n",
       "      <td>21</td>\n",
       "    </tr>\n",
       "    <tr>\n",
       "      <th>2651</th>\n",
       "      <td>강동구</td>\n",
       "      <td>100세 이상</td>\n",
       "      <td>82</td>\n",
       "      <td>15</td>\n",
       "      <td>67</td>\n",
       "    </tr>\n",
       "  </tbody>\n",
       "</table>\n",
       "<p>2652 rows × 5 columns</p>\n",
       "</div>"
      ],
      "text/plain": [
       "     행정구역(시군구)별      연령별  총인구수 (명)  남자인구수 (명)  여자인구수 (명)\n",
       "0         서울특별시        계   9378269    4532115    4846154\n",
       "1         서울특별시       0세     37255      19191      18064\n",
       "2         서울특별시       1세     39761      20217      19544\n",
       "3         서울특별시       2세     42137      21770      20367\n",
       "4         서울특별시       3세     43140      22008      21132\n",
       "...         ...      ...       ...        ...        ...\n",
       "2647        강동구      96세        92         16         76\n",
       "2648        강동구      97세        81         11         70\n",
       "2649        강동구      98세        42          7         35\n",
       "2650        강동구      99세        23          2         21\n",
       "2651        강동구  100세 이상        82         15         67\n",
       "\n",
       "[2652 rows x 5 columns]"
      ]
     },
     "execution_count": 4,
     "metadata": {},
     "output_type": "execute_result"
    }
   ],
   "source": [
    "pd.read_csv(\"./data/인구 데이터/2024년_4월_주민등록인구.csv\", encoding=\"cp949\")"
   ]
  },
  {
   "cell_type": "markdown",
   "id": "f4780b74",
   "metadata": {},
   "source": [
    "# 데이터 전처리"
   ]
  },
  {
   "cell_type": "markdown",
   "id": "4697d006",
   "metadata": {},
   "source": [
    "## 2023년 따릉이 사용량"
   ]
  },
  {
   "cell_type": "markdown",
   "id": "59f098ca",
   "metadata": {},
   "source": [
    "### 일별 사용량"
   ]
  },
  {
   "cell_type": "code",
   "execution_count": 26,
   "id": "da54bd95",
   "metadata": {},
   "outputs": [
    {
     "data": {
      "text/html": [
       "<div>\n",
       "<style scoped>\n",
       "    .dataframe tbody tr th:only-of-type {\n",
       "        vertical-align: middle;\n",
       "    }\n",
       "\n",
       "    .dataframe tbody tr th {\n",
       "        vertical-align: top;\n",
       "    }\n",
       "\n",
       "    .dataframe thead th {\n",
       "        text-align: right;\n",
       "    }\n",
       "</style>\n",
       "<table border=\"1\" class=\"dataframe\">\n",
       "  <thead>\n",
       "    <tr style=\"text-align: right;\">\n",
       "      <th></th>\n",
       "      <th>시작_대여소_ID</th>\n",
       "    </tr>\n",
       "    <tr>\n",
       "      <th>기준_날짜</th>\n",
       "      <th></th>\n",
       "    </tr>\n",
       "  </thead>\n",
       "  <tbody>\n",
       "    <tr>\n",
       "      <th>2023-01-27</th>\n",
       "      <td>81552</td>\n",
       "    </tr>\n",
       "    <tr>\n",
       "      <th>2023-01-28</th>\n",
       "      <td>71780</td>\n",
       "    </tr>\n",
       "    <tr>\n",
       "      <th>2023-01-29</th>\n",
       "      <td>75165</td>\n",
       "    </tr>\n",
       "    <tr>\n",
       "      <th>2023-01-30</th>\n",
       "      <td>131314</td>\n",
       "    </tr>\n",
       "    <tr>\n",
       "      <th>2023-01-31</th>\n",
       "      <td>148634</td>\n",
       "    </tr>\n",
       "    <tr>\n",
       "      <th>...</th>\n",
       "      <td>...</td>\n",
       "    </tr>\n",
       "    <tr>\n",
       "      <th>2023-05-13</th>\n",
       "      <td>299063</td>\n",
       "    </tr>\n",
       "    <tr>\n",
       "      <th>2023-05-14</th>\n",
       "      <td>285865</td>\n",
       "    </tr>\n",
       "    <tr>\n",
       "      <th>2023-05-15</th>\n",
       "      <td>368610</td>\n",
       "    </tr>\n",
       "    <tr>\n",
       "      <th>2023-05-16</th>\n",
       "      <td>370395</td>\n",
       "    </tr>\n",
       "    <tr>\n",
       "      <th>2023-05-17</th>\n",
       "      <td>373838</td>\n",
       "    </tr>\n",
       "  </tbody>\n",
       "</table>\n",
       "<p>111 rows × 1 columns</p>\n",
       "</div>"
      ],
      "text/plain": [
       "            시작_대여소_ID\n",
       "기준_날짜                \n",
       "2023-01-27      81552\n",
       "2023-01-28      71780\n",
       "2023-01-29      75165\n",
       "2023-01-30     131314\n",
       "2023-01-31     148634\n",
       "...               ...\n",
       "2023-05-13     299063\n",
       "2023-05-14     285865\n",
       "2023-05-15     368610\n",
       "2023-05-16     370395\n",
       "2023-05-17     373838\n",
       "\n",
       "[111 rows x 1 columns]"
      ]
     },
     "execution_count": 26,
     "metadata": {},
     "output_type": "execute_result"
    }
   ],
   "source": [
    "df_2023.groupby(\"기준_날짜\")[[\"시작_대여소_ID\"]].count()"
   ]
  }
 ],
 "metadata": {
  "kernelspec": {
   "display_name": "Python 3 (ipykernel)",
   "language": "python",
   "name": "python3"
  },
  "language_info": {
   "codemirror_mode": {
    "name": "ipython",
    "version": 3
   },
   "file_extension": ".py",
   "mimetype": "text/x-python",
   "name": "python",
   "nbconvert_exporter": "python",
   "pygments_lexer": "ipython3",
   "version": "3.9.13"
  },
  "toc": {
   "base_numbering": 1,
   "nav_menu": {},
   "number_sections": true,
   "sideBar": true,
   "skip_h1_title": false,
   "title_cell": "Table of Contents",
   "title_sidebar": "Contents",
   "toc_cell": false,
   "toc_position": {
    "height": "calc(100% - 180px)",
    "left": "10px",
    "top": "150px",
    "width": "460.8px"
   },
   "toc_section_display": true,
   "toc_window_display": true
  }
 },
 "nbformat": 4,
 "nbformat_minor": 5
}
